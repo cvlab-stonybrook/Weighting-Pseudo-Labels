{
 "cells": [
  {
   "cell_type": "code",
   "execution_count": 16,
   "id": "d1400e61-bcdb-42b4-9422-1d33ce7b5d4a",
   "metadata": {},
   "outputs": [],
   "source": [
    "import pickle\n",
    "import os\n",
    "box_dict_file='all_bboxes.pkl'\n",
    "box_dict = pickle.load( open( box_dict_file, \"rb\") )"
   ]
  },
  {
   "cell_type": "code",
   "execution_count": 17,
   "id": "58036c22-1c58-42dc-b535-5666a2f1148f",
   "metadata": {},
   "outputs": [
    {
     "name": "stdout",
     "output_type": "stream",
     "text": [
      "3475\n",
      "{20: [[241, 226, 297, 301], [1438, 340, 1449, 354], [954, 358, 979, 384]], 19: [[1230, 270, 1252, 314], [1169, 296, 1188, 333], [1053, 358, 1067, 391], [950, 369, 963, 399]], 17: [[256, 5, 279, 226], [1054, 263, 1231, 389], [259, 300, 286, 568], [1183, 311, 1294, 319], [1023, 317, 1031, 426], [218, 322, 230, 433], [1432, 325, 1437, 355], [698, 329, 709, 432], [460, 338, 469, 426], [548, 338, 557, 389], [962, 338, 968, 359], [943, 341, 948, 452], [238, 361, 247, 431], [415, 367, 423, 427], [985, 368, 997, 457], [923, 376, 932, 451], [1447, 376, 1451, 422], [959, 384, 969, 461], [844, 408, 849, 432], [1220, 430, 1250, 502], [1254, 433, 1264, 507], [1267, 434, 1275, 497], [1308, 449, 1324, 533], [1340, 453, 1355, 549], [1398, 465, 1419, 539], [1452, 476, 1479, 573], [1547, 480, 1576, 645]], 21: [[6, 5, 260, 388], [275, 5, 1062, 456], [1059, 5, 2043, 953], [1188, 295, 1231, 311], [689, 469, 731, 481], [1572, 535, 1613, 581]], 11: [[1518, 35, 1605, 105], [1989, 40, 2043, 367], [1491, 98, 1929, 522], [1028, 172, 1075, 416], [1437, 267, 1465, 478], [1078, 279, 1122, 301], [1079, 297, 1175, 398], [79, 305, 221, 434], [555, 308, 645, 429], [1060, 309, 1077, 389], [790, 312, 962, 453], [994, 323, 1025, 449], [229, 325, 250, 350], [672, 329, 701, 433], [394, 330, 417, 409], [423, 331, 463, 428], [1426, 331, 1432, 355], [494, 333, 550, 425], [244, 348, 260, 428], [283, 348, 358, 433], [708, 348, 772, 429], [226, 353, 243, 431], [968, 368, 989, 452], [1170, 370, 1212, 399], [1436, 375, 1448, 399], [1428, 376, 1432, 417], [1216, 385, 1229, 393], [468, 390, 494, 427], [1723, 523, 1740, 543]], 8: [[6, 441, 1024, 738], [1419, 445, 1454, 530], [1264, 473, 1269, 500], [1370, 472, 1399, 500], [1191, 474, 2043, 1019]], 22: [[1345, 520, 1554, 611], [1573, 554, 1613, 596]]}\n"
     ]
    }
   ],
   "source": [
    "#print(box_dict.keys())\n",
    "print(len(box_dict.keys()))\n",
    "print(box_dict['munster_000084_000019_leftImg8bit.png'])"
   ]
  },
  {
   "cell_type": "code",
   "execution_count": 18,
   "id": "24387e22-3cbc-489f-8df3-db7c47e25de1",
   "metadata": {},
   "outputs": [],
   "source": [
    "all_classes = [8,11,12,13,17,19,20,21,22]\n",
    "for cons_class in all_classes:\n",
    "    file1 = open(str(cons_class)+\".txt\", \"w\")  # write mode\n",
    "    for image_name in box_dict.keys():\n",
    "        if(cons_class in box_dict[image_name].keys()):\n",
    "            list_index = box_dict[image_name][cons_class]\n",
    "            for index in list_index:\n",
    "                string_to_save = image_name+'||'+str(float(index[0]))+'||'+str(float(index[1]))+'||'+str(float(index[2]))+'||'+str(float(index[3]))+'\\n'\n",
    "                file1.write(string_to_save)\n",
    "    file1.close()\n",
    "    "
   ]
  },
  {
   "cell_type": "code",
   "execution_count": null,
   "id": "743d9594-2dc7-472d-8ab5-bd9435126f95",
   "metadata": {},
   "outputs": [],
   "source": []
  }
 ],
 "metadata": {
  "kernelspec": {
   "display_name": "Python 3",
   "language": "python",
   "name": "python3"
  },
  "language_info": {
   "codemirror_mode": {
    "name": "ipython",
    "version": 3
   },
   "file_extension": ".py",
   "mimetype": "text/x-python",
   "name": "python",
   "nbconvert_exporter": "python",
   "pygments_lexer": "ipython3",
   "version": "3.7.10"
  }
 },
 "nbformat": 4,
 "nbformat_minor": 5
}
